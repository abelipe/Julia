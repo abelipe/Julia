{
 "cells": [
  {
   "cell_type": "markdown",
   "metadata": {},
   "source": [
    "<img src=pictures/ujap_eslogan1.png>\n",
    "<h2>Integrantes:</h2>\n",
    "<h3>Regina Escalona 30.681.671<br>\n",
    "Angel De Crescenzo 27.851.257</h4>\n",
    "------------------------------------------------------------------------------------------\n"
   ]
  },
  {
   "cell_type": "markdown",
   "metadata": {},
   "source": [
    "\n",
    "<img src=pictures/julia.png width=300px>\n",
    "<h1> Julia: </h1>\n",
    "<h3>Julia es un lenguaje de programación homoicónico, multiplataforma y multiparadigma de tipado dinámico de alto nivel y alto desempeño. Fue diseñado originalmente para la computación genérica, técnica y científica.\n",
    "<br>Este lenguaje de programacion tiene la ventaja de ser muy versatil y rapida para el analisis de datos y la ciencia de la computacion o simulacion numerica.\n",
    "\n",
    " Su mayor competidor es el lenguaje R</h3>\n",
    " <img src=pictures/r.png width=200px>"
   ]
  },
  {
   "cell_type": "markdown",
   "metadata": {},
   "source": [
    "<h4>Como todo lenguaje tenemos que comenzar en como imprimir cualquier cosa en tu pantalla:</h4>"
   ]
  },
  {
   "cell_type": "code",
   "execution_count": 1,
   "metadata": {},
   "outputs": [
    {
     "name": "stdout",
     "output_type": "stream",
     "text": [
      "Hola mundo"
     ]
    }
   ],
   "source": [
    "print(\"Hola mundo\") #esta es la forma sencilla de imprimir un mensaje o una variable"
   ]
  },
  {
   "cell_type": "markdown",
   "metadata": {},
   "source": [
    "# Variables\n",
    "<h3> Una variable es un espacio de memoria que le asignamos una cantidad de informacion o un valor. </h3>"
   ]
  },
  {
   "cell_type": "markdown",
   "metadata": {},
   "source": [
    "<h1> ¿Como asignamos un valor a una variable en Julia? </h1>\n",
    "<h3>Es bastante sencillo pero antes debemos de saber reglas importantes:\n",
    "</h3>"
   ]
  },
  {
   "cell_type": "markdown",
   "metadata": {},
   "source": [
    "<ul>\n",
    "    <li>No puedes usar palabras reservadas en el codigo</li>\n",
    "    <li>Tiene que tener un nombre significado para facil interpretacion</li>\n",
    "    <li>No puedes empezar con numeros</li>\n",
    "    <li>Se declara: nombre_De_Variable = valor</li>\n",
    "</ul>"
   ]
  },
  {
   "cell_type": "markdown",
   "metadata": {},
   "source": [
    "<h3>Ahora conociendo estas reglas simples podemos hacer unos ejemplos:</h3>"
   ]
  },
  {
   "cell_type": "code",
   "execution_count": 2,
   "metadata": {},
   "outputs": [
    {
     "data": {
      "text/plain": [
       "\"hola mundo\""
      ]
     },
     "metadata": {},
     "output_type": "display_data"
    }
   ],
   "source": [
    "hello_world = \"hola mundo\" #estilo string"
   ]
  },
  {
   "cell_type": "code",
   "execution_count": 3,
   "metadata": {},
   "outputs": [
    {
     "data": {
      "text/plain": [
       "1"
      ]
     },
     "metadata": {},
     "output_type": "display_data"
    }
   ],
   "source": [
    "numero = 1 #con un valor de un numero en este caso un int"
   ]
  },
  {
   "cell_type": "code",
   "execution_count": 4,
   "metadata": {},
   "outputs": [
    {
     "data": {
      "text/plain": [
       "true"
      ]
     },
     "metadata": {},
     "output_type": "display_data"
    }
   ],
   "source": [
    "j = true #usamos declaraciones"
   ]
  },
  {
   "cell_type": "markdown",
   "metadata": {},
   "source": [
    "<h1>Tipos de valores</h1>\n",
    "<h3>Como todo los lenguajes de programacion Julia tiene diferentes tipos de valores, pero al ser un lenguaje de programacion mas matematico tiene importantes tipos de valores para hacer las operaciones matematicas mas sencillas a la hora de programar\n",
    "</h3>\n"
   ]
  },
  {
   "cell_type": "markdown",
   "metadata": {},
   "source": [
    "<h3>\n",
    "<ul>\n",
    "    <li>Numeros enteros</li>\n",
    "</ul>\n",
    "</h3>"
   ]
  },
  {
   "cell_type": "markdown",
   "metadata": {},
   "source": [
    "<h1>Operadores</h1>\n",
    "<h3>Un operador es un simbolo que identifica un tipo de calculo que se va a realizar, Julia tambien usa operadores como: <br>\n",
    "\n",
    "</h3>"
   ]
  },
  {
   "cell_type": "markdown",
   "metadata": {},
   "source": [
    "<h3><ul>\n",
    "    <li>Aritmeticos: operaciones matematicas basicas como la suma, aqui hay unos ejemplos basicos:</li>\n",
    "</ul>\n",
    "</h3>"
   ]
  },
  {
   "cell_type": "code",
   "execution_count": 1,
   "metadata": {},
   "outputs": [
    {
     "name": "stdout",
     "output_type": "stream",
     "text": [
      "3\n",
      "-1\n",
      "0.5\n",
      "2\n"
     ]
    }
   ],
   "source": [
    "a = 1\n",
    "b = 2\n",
    "#println() significa que va a imprimir y despues hace un salto de linea\n",
    "suma = a + b\n",
    "println(suma)\n",
    "\n",
    "resta = a - b\n",
    "println(resta)\n",
    "\n",
    "division = a / b\n",
    "println(division)\n",
    "\n",
    "multiplicacion = a * b\n",
    "println(multiplicacion)"
   ]
  },
  {
   "cell_type": "markdown",
   "metadata": {},
   "source": [
    "<h3>\n",
    "<ul>\n",
    "    <li>Logicos: combina dos valores y devuelve un resultado verdadero, falso o nulo</li>\n",
    "</ul>\n",
    "</h3>"
   ]
  },
  {
   "cell_type": "code",
   "execution_count": 2,
   "metadata": {},
   "outputs": [
    {
     "name": "stdout",
     "output_type": "stream",
     "text": [
      "false\n",
      "true\n",
      "true\n",
      "false\n",
      "true\n",
      "false\n"
     ]
    }
   ],
   "source": [
    "a = 1\n",
    "b = 2\n",
    "\n",
    "#igualdad\n",
    "println(a == b)\n",
    "\n",
    "#desigualdad\n",
    "println(a != b)\n",
    "\n",
    "#menos que\n",
    "println(a < b)\n",
    "\n",
    "#mayor que\n",
    "println(a > b)\n",
    "\n",
    "#menor o igual\n",
    "println(a <= b)\n",
    "\n",
    "#mayor o igual\n",
    "println(a >= b)"
   ]
  },
  {
   "cell_type": "markdown",
   "metadata": {},
   "source": [
    "<h3>\n",
    "<ul>\n",
    "    <li>Boolean: usamos operaciones logicas en valores true o false</li>\n",
    "</ul>\n",
    "</h3>"
   ]
  },
  {
   "cell_type": "code",
   "execution_count": 11,
   "metadata": {},
   "outputs": [
    {
     "name": "stdout",
     "output_type": "stream",
     "text": [
      "false\n",
      "true\n",
      "false\n",
      "true\n"
     ]
    }
   ],
   "source": [
    "a = 10\n",
    "b = 5\n",
    "c = 10\n",
    "d = true\n",
    "e = false\n",
    "#para usar tambien/y usas el operador -> &&\n",
    "println(a == c && a == b)\n",
    "\n",
    "#para usar puede ser/o usas el operador -> ||\n",
    "println(a == c || a == b)\n",
    "\n",
    "#para usar negacion, es decir cambias de un estado a otro contrario  -> !x \n",
    "println(!d)\n",
    "println(!e)"
   ]
  }
 ],
 "metadata": {
  "kernelspec": {
   "display_name": "Julia 1.10.3",
   "language": "julia",
   "name": "julia-1.10"
  },
  "language_info": {
   "file_extension": ".jl",
   "mimetype": "application/julia",
   "name": "julia",
   "version": "1.10.3"
  }
 },
 "nbformat": 4,
 "nbformat_minor": 2
}
