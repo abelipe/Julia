{
 "cells": [
  {
   "cell_type": "markdown",
   "metadata": {},
   "source": [
    "<img src=pictures/ujap_eslogan1.png>\n",
    "<h2>Integrantes:</h2>\n",
    "<h3>Regina Escalona 30.681.671<br>\n",
    "Angel De Crescenzo 27.851.257</h4>\n",
    "------------------------------------------------------------------------------------------\n"
   ]
  },
  {
   "cell_type": "markdown",
   "metadata": {},
   "source": [
    "\n",
    "<img src=pictures/julia.png width=300px>\n",
    "<h1> Julia: </h1>\n",
    "<h3>Julia es un lenguaje de programación homoicónico, multiplataforma y multiparadigma de tipado dinámico de alto nivel y alto desempeño. Fue diseñado originalmente para la computación genérica, técnica y científica.\n",
    "<br>Este lenguaje de programacion tiene la ventaja de ser muy versatil y rapida para el analisis de datos y la ciencia de la computacion o simulacion numerica.\n",
    "\n",
    " Su mayor competidor es el lenguaje R</h3>\n",
    " <img src=pictures/r.png width=200px>"
   ]
  },
  {
   "cell_type": "markdown",
   "metadata": {},
   "source": [
    "<h4>Como todo lenguaje tenemos que comenzar en como imprimir cualquier cosa en tu pantalla:</h4>"
   ]
  },
  {
   "cell_type": "code",
   "execution_count": 1,
   "metadata": {},
   "outputs": [
    {
     "name": "stdout",
     "output_type": "stream",
     "text": [
      "Hola mundo"
     ]
    }
   ],
   "source": [
    "print(\"Hola mundo\") #esta es la forma sencilla de imprimir un mensaje o una variable"
   ]
  },
  {
   "cell_type": "markdown",
   "metadata": {},
   "source": [
    "# Variables\n",
    "<h3> Una variable es un espacio de memoria que le asignamos una cantidad de informacion o un valor. </h3>"
   ]
  },
  {
   "cell_type": "markdown",
   "metadata": {},
   "source": [
    "<h1> ¿Como asignamos un valor a una variable en Julia? </h1>\n",
    "<h3>Es bastante sencillo pero antes debemos de saber reglas importantes:\n",
    "</h3>"
   ]
  },
  {
   "cell_type": "markdown",
   "metadata": {},
   "source": [
    "<ul>\n",
    "    <li>No puedes usar palabras reservadas en el codigo</li>\n",
    "    <li>Tiene que tener un nombre significado para facil interpretacion</li>\n",
    "    <li>No puedes empezar con numeros</li>\n",
    "    <li>Se declara: nombre_De_Variable = valor</li>\n",
    "</ul>"
   ]
  },
  {
   "cell_type": "markdown",
   "metadata": {},
   "source": [
    "<h3>Ahora conociendo estas reglas simples podemos hacer unos ejemplos:</h3>"
   ]
  },
  {
   "cell_type": "code",
   "execution_count": 2,
   "metadata": {},
   "outputs": [
    {
     "data": {
      "text/plain": [
       "\"hola mundo\""
      ]
     },
     "metadata": {},
     "output_type": "display_data"
    }
   ],
   "source": [
    "hello_world = \"hola mundo\" #estilo string"
   ]
  },
  {
   "cell_type": "code",
   "execution_count": 3,
   "metadata": {},
   "outputs": [
    {
     "data": {
      "text/plain": [
       "1"
      ]
     },
     "metadata": {},
     "output_type": "display_data"
    }
   ],
   "source": [
    "numero = 1 #con un valor de un numero en este caso un int"
   ]
  },
  {
   "cell_type": "code",
   "execution_count": 4,
   "metadata": {},
   "outputs": [
    {
     "data": {
      "text/plain": [
       "true"
      ]
     },
     "metadata": {},
     "output_type": "display_data"
    }
   ],
   "source": [
    "j = true #usamos declaraciones"
   ]
  },
  {
   "cell_type": "markdown",
   "metadata": {},
   "source": [
    "<h1>Tipos de valores</h1>\n",
    "<h3>Como todo los lenguajes de programacion Julia tiene diferentes tipos de valores, pero al ser un lenguaje de programacion mas matematico tiene importantes tipos de valores para hacer las operaciones matematicas mas sencillas a la hora de programar\n",
    "</h3>\n"
   ]
  },
  {
   "cell_type": "markdown",
   "metadata": {},
   "source": [
    "<h3>\n",
    "<ul>\n",
    "    <li>Numeros enteros: <br> Representan valores numericos sin partes decimales</li>\n",
    "</ul>\n",
    "</h3>"
   ]
  },
  {
   "cell_type": "code",
   "execution_count": 12,
   "metadata": {},
   "outputs": [
    {
     "data": {
      "text/plain": [
       "1"
      ]
     },
     "metadata": {},
     "output_type": "display_data"
    }
   ],
   "source": [
    "numero_entero = 1"
   ]
  },
  {
   "cell_type": "markdown",
   "metadata": {},
   "source": [
    "<h3>\n",
    "<ul>\n",
    "    <li>Numeros flotantes: <br> valores numericos que si contienen su parte decimal y se usan con el punto ( . ) para denotar el comienzo de los decimales</li>\n",
    "</ul>\n",
    "</h3>"
   ]
  },
  {
   "cell_type": "code",
   "execution_count": 13,
   "metadata": {},
   "outputs": [
    {
     "data": {
      "text/plain": [
       "12.55"
      ]
     },
     "metadata": {},
     "output_type": "display_data"
    }
   ],
   "source": [
    "numero_flotante = 12.55"
   ]
  },
  {
   "cell_type": "markdown",
   "metadata": {},
   "source": [
    "<h3>\n",
    "<ul>\n",
    "    <li>Numeros complejos: <br> como en matematica convencional existen numero complejos que contienen una parte real y otra imaginaria: x + yi siendo \"i\" la parte imaginaria, en Julia se usa -> x + yim usando \"im\" para denotar la parte imaginaria del numero</li>\n",
    "</ul>\n",
    "</h3>"
   ]
  },
  {
   "cell_type": "code",
   "execution_count": 14,
   "metadata": {},
   "outputs": [
    {
     "data": {
      "text/plain": [
       "16 + 8im"
      ]
     },
     "metadata": {},
     "output_type": "display_data"
    }
   ],
   "source": [
    "numero_complejo = 16 + 8im"
   ]
  },
  {
   "cell_type": "markdown",
   "metadata": {},
   "source": [
    "<h3>\n",
    "<ul>\n",
    "    <li>Cadenas de texto: <br>Los increibles String, cadenas, str, son texto que vienen definidos usando las comillas como: ('') o (\"\") o (\"\"\" \"\"\") </li>\n",
    "</ul>\n",
    "</h3>"
   ]
  },
  {
   "cell_type": "code",
   "execution_count": 15,
   "metadata": {},
   "outputs": [
    {
     "data": {
      "text/plain": [
       "\"colocas tu texto aqui\""
      ]
     },
     "metadata": {},
     "output_type": "display_data"
    }
   ],
   "source": [
    "strva = \"colocas tu texto aqui\""
   ]
  },
  {
   "cell_type": "markdown",
   "metadata": {},
   "source": [
    "<h3>\n",
    "<ul>\n",
    "    <li>Boolean: <br> es un tipo de variable que solo tiene \"estados\" que son true (Verdadero) o false (falso), se usan para la toma de decisiones</li>\n",
    "</ul>\n",
    "</h3>"
   ]
  },
  {
   "cell_type": "code",
   "execution_count": 16,
   "metadata": {},
   "outputs": [
    {
     "data": {
      "text/plain": [
       "true"
      ]
     },
     "metadata": {},
     "output_type": "display_data"
    }
   ],
   "source": [
    "este_trabajo_tiene_20 = true"
   ]
  },
  {
   "cell_type": "code",
   "execution_count": 17,
   "metadata": {},
   "outputs": [
    {
     "data": {
      "text/plain": [
       "false"
      ]
     },
     "metadata": {},
     "output_type": "display_data"
    }
   ],
   "source": [
    "este_trabajo_tiene_01 = false"
   ]
  },
  {
   "cell_type": "markdown",
   "metadata": {},
   "source": [
    "<h3>\n",
    "<ul>\n",
    "    <li>Listas: un conjunto de valores en una sola variable, un vector se declaran usando \"[ ]\" y para diferenciar de valor en valor se usa la coma \",\"</li>\n",
    "</ul>\n",
    "</h3>"
   ]
  },
  {
   "cell_type": "code",
   "execution_count": 12,
   "metadata": {},
   "outputs": [
    {
     "name": "stdout",
     "output_type": "stream",
     "text": [
      "[1, 2, 3, 4]\n",
      "[\"angel\", \"regina\", \"maria\"]\n"
     ]
    }
   ],
   "source": [
    "lista_numeros = [1, 2, 3, 4]\n",
    "lista_nombres = [\"angel\", \"regina\", \"maria\"]\n",
    "\n",
    "println(lista_numeros)\n",
    "println(lista_nombres)\n"
   ]
  },
  {
   "cell_type": "markdown",
   "metadata": {},
   "source": [
    "<h1>Operadores</h1>\n",
    "<h3>Un operador es un simbolo que identifica un tipo de calculo que se va a realizar, Julia tambien usa operadores como: <br>\n",
    "\n",
    "</h3>"
   ]
  },
  {
   "cell_type": "markdown",
   "metadata": {},
   "source": [
    "<h3><ul>\n",
    "    <li>Aritmeticos: operaciones matematicas basicas como la suma, aqui hay unos ejemplos basicos:</li>\n",
    "</ul>\n",
    "</h3>"
   ]
  },
  {
   "cell_type": "code",
   "execution_count": 1,
   "metadata": {},
   "outputs": [
    {
     "name": "stdout",
     "output_type": "stream",
     "text": [
      "3\n",
      "-1\n",
      "0.5\n",
      "2\n"
     ]
    }
   ],
   "source": [
    "a = 1\n",
    "b = 2\n",
    "#println() significa que va a imprimir y despues hace un salto de linea\n",
    "suma = a + b\n",
    "println(suma)\n",
    "\n",
    "resta = a - b\n",
    "println(resta)\n",
    "\n",
    "division = a / b\n",
    "println(division)\n",
    "\n",
    "multiplicacion = a * b\n",
    "println(multiplicacion)"
   ]
  },
  {
   "cell_type": "markdown",
   "metadata": {},
   "source": [
    "<h3>\n",
    "<ul>\n",
    "    <li>Logicos: combina dos valores y devuelve un resultado verdadero, falso o nulo</li>\n",
    "</ul>\n",
    "</h3>"
   ]
  },
  {
   "cell_type": "code",
   "execution_count": 2,
   "metadata": {},
   "outputs": [
    {
     "name": "stdout",
     "output_type": "stream",
     "text": [
      "false\n",
      "true\n",
      "true\n",
      "false\n",
      "true\n",
      "false\n"
     ]
    }
   ],
   "source": [
    "a = 1\n",
    "b = 2\n",
    "\n",
    "#igualdad\n",
    "println(a == b)\n",
    "\n",
    "#desigualdad\n",
    "println(a != b)\n",
    "\n",
    "#menos que\n",
    "println(a < b)\n",
    "\n",
    "#mayor que\n",
    "println(a > b)\n",
    "\n",
    "#menor o igual\n",
    "println(a <= b)\n",
    "\n",
    "#mayor o igual\n",
    "println(a >= b)"
   ]
  },
  {
   "cell_type": "markdown",
   "metadata": {},
   "source": [
    "<h3>\n",
    "<ul>\n",
    "    <li>Boolean: usamos operaciones logicas en valores true o false</li>\n",
    "</ul>\n",
    "</h3>"
   ]
  },
  {
   "cell_type": "code",
   "execution_count": 11,
   "metadata": {},
   "outputs": [
    {
     "name": "stdout",
     "output_type": "stream",
     "text": [
      "false\n",
      "true\n",
      "false\n",
      "true\n"
     ]
    }
   ],
   "source": [
    "a = 10\n",
    "b = 5\n",
    "c = 10\n",
    "d = true\n",
    "e = false\n",
    "#para usar tambien/y usas el operador -> &&\n",
    "println(a == c && a == b)\n",
    "\n",
    "#para usar puede ser/o usas el operador -> ||\n",
    "println(a == c || a == b)\n",
    "\n",
    "#para usar negacion, es decir cambias de un estado a otro contrario  -> !x \n",
    "println(!d)\n",
    "println(!e)"
   ]
  },
  {
   "cell_type": "markdown",
   "metadata": {},
   "source": [
    "<h1>Condicionales</h1>\n",
    "<h3>Usado para la toma de decisiones tomando en cuenta una condicion que se le de, permitiendo ejecutar bloques de codigo, algo muy importante es que siempre que sea una estructura de control debe de terminar con \"end\".<br> Algunos ejemplos en Julia de los condicionales sencillos son:</h3>"
   ]
  },
  {
   "cell_type": "markdown",
   "metadata": {},
   "source": [
    "<h3>\n",
    "<ul>\n",
    "    <li>if/else: </li>\n",
    "</ul>\n",
    "</h3>"
   ]
  },
  {
   "cell_type": "code",
   "execution_count": 23,
   "metadata": {},
   "outputs": [
    {
     "name": "stdout",
     "output_type": "stream",
     "text": [
      "la condicion es verdadera"
     ]
    }
   ],
   "source": [
    "condicion = true\n",
    "\n",
    "if condicion == true \n",
    "    print(\"la condicion es verdadera\")\n",
    "else \n",
    "    print(\"otra cosa pasa diferente a que condicion sea igual a true\")\n",
    "end"
   ]
  },
  {
   "cell_type": "code",
   "execution_count": 25,
   "metadata": {},
   "outputs": [
    {
     "name": "stdout",
     "output_type": "stream",
     "text": [
      "otra cosa pasa diferente a que condicion sea igual a true"
     ]
    }
   ],
   "source": [
    "condicion = false\n",
    "\n",
    "if condicion == true \n",
    "    print(\"la condicion es verdadera\")\n",
    "else \n",
    "    print(\"otra cosa pasa diferente a que condicion sea igual a true\")\n",
    "end"
   ]
  },
  {
   "cell_type": "code",
   "execution_count": 26,
   "metadata": {},
   "outputs": [
    {
     "name": "stdout",
     "output_type": "stream",
     "text": [
      "otra cosa pasa diferente a que condicion sea igual a true"
     ]
    }
   ],
   "source": [
    "condicion = 3\n",
    "\n",
    "if condicion == true \n",
    "    print(\"la condicion es verdadera\")\n",
    "else \n",
    "    print(\"otra cosa pasa diferente a que condicion sea igual a true\")\n",
    "end"
   ]
  },
  {
   "cell_type": "markdown",
   "metadata": {},
   "source": [
    "<h3>Podemos ver que usando el if en lenguaje convencional es como un \"si condicion es verdadero imprimes que la condicion es verdadera\", el else seria \"si lo de arriba no se cumple imprimes ...\" al terminar se usa el end en la misma linea que el if/else esto se debe a que es una estructura de control y se debe de usar el end, marcando asi el fin de ese bloque de codigo</h3>"
   ]
  },
  {
   "cell_type": "markdown",
   "metadata": {},
   "source": [
    "<h3>Tambien cuando necesitas varias condicionales tienes la opcion de usar el \"elseif\" que se usa cuando tienes varias condiciones a evaluar</h3>"
   ]
  },
  {
   "cell_type": "code",
   "execution_count": 27,
   "metadata": {},
   "outputs": [
    {
     "name": "stdout",
     "output_type": "stream",
     "text": [
      "la condicion es 16"
     ]
    }
   ],
   "source": [
    "condicion = 16\n",
    "\n",
    "if condicion == 0 \n",
    "    print(\"la condicion es 0\")\n",
    "elseif condicion == 16\n",
    "    print(\"la condicion es 16\")\n",
    "elseif condicion == 8\n",
    "    print(\"la condicion es 8\")\n",
    "end"
   ]
  },
  {
   "cell_type": "markdown",
   "metadata": {},
   "source": [
    "<h1>Tipos de Bucles</h1>\n",
    "<h3>Un bucle permite repetir un bloque de instrucciones siempre y cuando se cumpla una condicion determinada <br> Los bucles simples en Julia son 2: While y for</h3>"
   ]
  },
  {
   "cell_type": "markdown",
   "metadata": {},
   "source": [
    "<h3>\n",
    "<ul>\n",
    "    <li>While: </br> el while corre el bloque de codigo siempre y cuando se cumpla la condicion determinada. </li>\n",
    "</ul>\n",
    "</h3>"
   ]
  },
  {
   "cell_type": "code",
   "execution_count": 4,
   "metadata": {},
   "outputs": [
    {
     "name": "stdout",
     "output_type": "stream",
     "text": [
      "5\n",
      "4\n",
      "3\n",
      "2\n",
      "1\n",
      "contador llego a 0\n"
     ]
    }
   ],
   "source": [
    "contador = 5\n",
    "\n",
    "while contador != 0 \n",
    "    println(contador)\n",
    "    global contador -= 1\n",
    "end\n",
    "\n",
    "println(\"contador llego a 0\")"
   ]
  },
  {
   "cell_type": "markdown",
   "metadata": {},
   "source": [
    "<h3> hay que tener en cuanta que al ser una estructura de control se necesita terminar con el \"end\",  las estructuras de control son los condicionales y los bucles."
   ]
  },
  {
   "cell_type": "markdown",
   "metadata": {},
   "source": [
    "<h3>\n",
    "<ul>\n",
    "    <li>For: </br> es un control de flujo y se usa para correr una iteracion en una secuancia de valores, como en un rango de numeros. </li>\n",
    "</ul>\n",
    "</h3>"
   ]
  },
  {
   "cell_type": "code",
   "execution_count": 8,
   "metadata": {},
   "outputs": [
    {
     "name": "stdout",
     "output_type": "stream",
     "text": [
      "4"
     ]
    }
   ],
   "source": [
    "rango_lista = [1, 2, 3, 4]\n",
    "contador = 0\n",
    "\n",
    "for iteracion in rango_lista\n",
    "    contador += 1 #suma 1 para contar cuantos numeros hay en la lista\n",
    "end\n",
    "\n",
    "print(contador)"
   ]
  }
 ],
 "metadata": {
  "kernelspec": {
   "display_name": "Julia 1.10.3",
   "language": "julia",
   "name": "julia-1.10"
  },
  "language_info": {
   "file_extension": ".jl",
   "mimetype": "application/julia",
   "name": "julia",
   "version": "1.10.3"
  }
 },
 "nbformat": 4,
 "nbformat_minor": 2
}
